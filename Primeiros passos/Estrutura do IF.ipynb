{
 "cells": [
  {
   "cell_type": "code",
   "execution_count": 2,
   "metadata": {},
   "outputs": [
    {
     "name": "stdout",
     "output_type": "stream",
     "text": [
      "Razoável\n"
     ]
    }
   ],
   "source": [
    "salario = 2500\n",
    "\n",
    "if(salario<2000):\n",
    "    print(\"Impossível viver no Brasil\")\n",
    "elif (3000>salario>2000):\n",
    "    print(\"Razoável\")\n",
    "else:\n",
    "    print(\"Ó, privilegiado\")"
   ]
  },
  {
   "cell_type": "code",
   "execution_count": 5,
   "metadata": {},
   "outputs": [
    {
     "name": "stdout",
     "output_type": "stream",
     "text": [
      "Verdadeiro!\n"
     ]
    }
   ],
   "source": [
    "nome = 'Ana Clara'\n",
    "\n",
    "if 'Ana' in nome:\n",
    "    print(\"Verdadeiro!\")\n",
    "else:\n",
    "    print(\"Falso!\")"
   ]
  },
  {
   "cell_type": "code",
   "execution_count": 9,
   "metadata": {},
   "outputs": [
    {
     "name": "stdout",
     "output_type": "stream",
     "text": [
      "Falso!\n"
     ]
    }
   ],
   "source": [
    "nome = 'Enzo'\n",
    "\n",
    "if not 'En' in nome:\n",
    "    print(\"Verdadeiro!\")\n",
    "else:\n",
    "    print(\"Falso!\")"
   ]
  },
  {
   "cell_type": "code",
   "execution_count": 11,
   "metadata": {},
   "outputs": [
    {
     "name": "stdout",
     "output_type": "stream",
     "text": [
      "Acertoouu\n"
     ]
    }
   ],
   "source": [
    "if \"zo\" in nome and not \"ca\" in nome:\n",
    "    print(\"Acertoouu\")"
   ]
  },
  {
   "cell_type": "code",
   "execution_count": 12,
   "metadata": {},
   "outputs": [
    {
     "name": "stdout",
     "output_type": "stream",
     "text": [
      "Realmente...\n"
     ]
    }
   ],
   "source": [
    "if nome==\"Caio\" or nome==\"Enzo\":\n",
    "    print(\"Realmente...\")"
   ]
  }
 ],
 "metadata": {
  "kernelspec": {
   "display_name": "Python 3",
   "language": "python",
   "name": "python3"
  },
  "language_info": {
   "codemirror_mode": {
    "name": "ipython",
    "version": 3
   },
   "file_extension": ".py",
   "mimetype": "text/x-python",
   "name": "python",
   "nbconvert_exporter": "python",
   "pygments_lexer": "ipython3",
   "version": "3.7.6"
  }
 },
 "nbformat": 4,
 "nbformat_minor": 4
}
