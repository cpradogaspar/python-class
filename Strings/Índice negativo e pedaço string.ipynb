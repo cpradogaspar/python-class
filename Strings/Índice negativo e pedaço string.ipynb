{
 "cells": [
  {
   "cell_type": "markdown",
   "metadata": {},
   "source": [
    "Para pegar um texto de trás para frente -> texto[índice] onde o índice é negativo\n",
    "Para pegar o pedaço de um texto use : texto[:indice] ou texto[indice:] ou até texto[indice:indice]"
   ]
  },
  {
   "cell_type": "code",
   "execution_count": 5,
   "metadata": {},
   "outputs": [
    {
     "name": "stdout",
     "output_type": "stream",
     "text": [
      "Tamanho do texto: 20 caracteres\n",
      "Primeiro caracter: C\n",
      "Último caracter: o\n",
      "Servidor email: gmail\n"
     ]
    }
   ],
   "source": [
    "email = \"caio.prado@gmail.com\"\n",
    "nome = \"Caio Prado\"\n",
    "\n",
    "print(\"Tamanho do texto: \" + str(len(email)) + \" caracteres\")\n",
    "print(\"Primeiro caracter: \" + nome[0])\n",
    "print(\"Último caracter: \" + nome[-1])\n",
    "print(\"Servidor email: \" + email[11:16])"
   ]
  }
 ],
 "metadata": {
  "kernelspec": {
   "display_name": "Python 3",
   "language": "python",
   "name": "python3"
  },
  "language_info": {
   "codemirror_mode": {
    "name": "ipython",
    "version": 3
   },
   "file_extension": ".py",
   "mimetype": "text/x-python",
   "name": "python",
   "nbconvert_exporter": "python",
   "pygments_lexer": "ipython3",
   "version": "3.7.6"
  }
 },
 "nbformat": 4,
 "nbformat_minor": 4
}
